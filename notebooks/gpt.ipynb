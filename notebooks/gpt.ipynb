{
 "cells": [
  {
   "cell_type": "code",
   "execution_count": 2,
   "metadata": {},
   "outputs": [],
   "source": [
    "from openai import OpenAI\n",
    "\n",
    "client = OpenAI()\n"
   ]
  },
  {
   "cell_type": "code",
   "execution_count": 19,
   "metadata": {},
   "outputs": [
    {
     "name": "stdout",
     "output_type": "stream",
     "text": [
      "\n",
      "\"\n",
      "Good\n",
      "\"\n",
      " is\n",
      " a\n",
      " subjective\n",
      " term\n",
      ",\n",
      " and\n",
      " its\n",
      " meaning\n",
      " can\n",
      " vary\n",
      " depending\n",
      " on\n",
      " the\n",
      " context\n",
      ".\n",
      " Generally\n",
      ",\n",
      " something\n",
      " is\n",
      " considered\n",
      " good\n",
      " if\n",
      " it\n",
      " is\n",
      " morally\n",
      " right\n",
      ",\n",
      " beneficial\n",
      ",\n",
      " or\n",
      " of\n",
      " high\n",
      " quality\n",
      ".\n",
      " However\n",
      ",\n",
      " what\n",
      " is\n",
      " considered\n",
      " good\n",
      " can\n",
      " vary\n",
      " from\n",
      " person\n",
      " to\n",
      " person\n",
      ",\n",
      " culture\n",
      " to\n",
      " culture\n",
      ",\n",
      " and\n",
      " situation\n",
      " to\n",
      " situation\n",
      ".\n",
      "None\n"
     ]
    }
   ],
   "source": [
    "for response in client.chat.completions.create(messages=[{'role':'user', 'content':'What is good'}], model='gpt-3.5-turbo', stream=True):\n",
    "    print(response.choices[0].delta.content)\n"
   ]
  },
  {
   "cell_type": "code",
   "execution_count": 14,
   "metadata": {},
   "outputs": [
    {
     "ename": "AttributeError",
     "evalue": "'Stream' object has no attribute 'message'",
     "output_type": "error",
     "traceback": [
      "\u001b[0;31m---------------------------------------------------------------------------\u001b[0m",
      "\u001b[0;31mAttributeError\u001b[0m                            Traceback (most recent call last)",
      "\u001b[1;32m/Users/poloniki/code/lewagon/stream/notebooks/gpt.ipynb Cell 3\u001b[0m line \u001b[0;36m1\n\u001b[0;32m----> <a href='vscode-notebook-cell:/Users/poloniki/code/lewagon/stream/notebooks/gpt.ipynb#W2sZmlsZQ%3D%3D?line=0'>1</a>\u001b[0m response\u001b[39m.\u001b[39;49mmessage\n",
      "\u001b[0;31mAttributeError\u001b[0m: 'Stream' object has no attribute 'message'"
     ]
    }
   ],
   "source": [
    "response.message\n"
   ]
  },
  {
   "cell_type": "code",
   "execution_count": 20,
   "metadata": {},
   "outputs": [
    {
     "name": "stdout",
     "output_type": "stream",
     "text": [
      "Yes\n"
     ]
    }
   ],
   "source": [
    "if prompt := 'hello':\n",
    "    print('Yes')\n"
   ]
  },
  {
   "cell_type": "code",
   "execution_count": 21,
   "metadata": {},
   "outputs": [
    {
     "name": "stdout",
     "output_type": "stream",
     "text": [
      "yes\n"
     ]
    }
   ],
   "source": [
    "if variable:= 'hello':\n",
    "    print('yes')\n"
   ]
  },
  {
   "cell_type": "code",
   "execution_count": null,
   "metadata": {},
   "outputs": [],
   "source": []
  }
 ],
 "metadata": {
  "kernelspec": {
   "display_name": "lewagon",
   "language": "python",
   "name": "python3"
  },
  "language_info": {
   "codemirror_mode": {
    "name": "ipython",
    "version": 3
   },
   "file_extension": ".py",
   "mimetype": "text/x-python",
   "name": "python",
   "nbconvert_exporter": "python",
   "pygments_lexer": "ipython3",
   "version": "3.10.6"
  }
 },
 "nbformat": 4,
 "nbformat_minor": 2
}
